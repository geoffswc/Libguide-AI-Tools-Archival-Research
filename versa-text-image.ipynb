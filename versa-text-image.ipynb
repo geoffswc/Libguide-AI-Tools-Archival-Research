{
 "cells": [
  {
   "cell_type": "code",
   "execution_count": 1,
   "id": "c01c77e7-bc71-4958-a02f-33b8b6cef9de",
   "metadata": {},
   "outputs": [],
   "source": [
    "#!pip install pyyaml"
   ]
  },
  {
   "cell_type": "code",
   "execution_count": 2,
   "id": "fb3c80f2-4670-4a7a-9875-74d1d0525433",
   "metadata": {},
   "outputs": [],
   "source": [
    "import json\n",
    "import requests\n",
    "import yaml\n",
    "import time"
   ]
  },
  {
   "cell_type": "code",
   "execution_count": 3,
   "id": "1c792e37-955e-4c93-b98d-42016df91833",
   "metadata": {},
   "outputs": [],
   "source": [
    "# Load YAML file\n",
    "def load_config(filename):\n",
    "    with open(filename, 'r') as file:\n",
    "        config = yaml.safe_load(file) \n",
    "    return config\n",
    "\n",
    "config = load_config('config.yaml')"
   ]
  },
  {
   "cell_type": "code",
   "execution_count": 4,
   "id": "bf00138a-0f5d-4c76-84d0-6c48bbc80bd3",
   "metadata": {},
   "outputs": [],
   "source": [
    "API_KEY = config['API_KEY']\n",
    "API_VERSION = config['API_VERSION']\n",
    "RESOURCE_ENDPOINT = config['RESOURCE_ENDPOINT']"
   ]
  },
  {
   "cell_type": "code",
   "execution_count": 5,
   "id": "fecd58c2-6223-47e1-9706-9d5bf32fec01",
   "metadata": {},
   "outputs": [],
   "source": [
    "# These two functions are helper functions\n",
    "def post_request(url, headers, body):\n",
    "    response = requests.post(url, headers=headers, data=body)\n",
    "        \n",
    "    response.raise_for_status()\n",
    "    return response\n",
    "\n",
    "def exception_code(retries, deployment_id, e):\n",
    "    MAX_RETRIES = 3\n",
    "    RETRY_SECS = 1\n",
    "    if retries >= MAX_RETRIES:\n",
    "        print(f'Failed attempt {retries+1} of {MAX_RETRIES+1}.')\n",
    "        print(error_msg)\n",
    "        raise Exception(f\"Test failed for deployment: {deployment_id}, Error received: {e}\")\n",
    "    else:\n",
    "        print(f'Failed attempt {retries+1} of {MAX_RETRIES + 1}. Waiting {RETRY_SECS} secs before next attempt...')\n",
    "        \n",
    "    retries += 1\n",
    "    time.sleep(RETRY_SECS)\n",
    "    \n",
    "    return retries"
   ]
  },
  {
   "cell_type": "code",
   "execution_count": 6,
   "id": "606beb78-4489-4ab9-935f-7c3bd3ad8c92",
   "metadata": {},
   "outputs": [],
   "source": [
    "def text_completion(prompt, simulate_api_error=False):\n",
    "  \n",
    "    completions_url = f\"{RESOURCE_ENDPOINT}/openai/deployments/gpt-35-turbo-instruct/completions?api-version={API_VERSION}\"\n",
    "    body = json.dumps({\n",
    "        \"prompt\": prompt,\n",
    "         \"max_tokens\": 250,  # Limit the response\n",
    "    })\n",
    "    headers = {\n",
    "        'Content-Type': 'application/json',\n",
    "        'api-key': API_KEY\n",
    "    }\n",
    "\n",
    "    retries = 0\n",
    "\n",
    "    while True:\n",
    "        try:\n",
    "            response = post_request(completions_url, headers, body)\n",
    "\n",
    "            #print('User: ', prompt)\n",
    "            print(json.loads(response.text).get('choices')[0].get('text'))\n",
    "            break\n",
    "        except Exception as e:\n",
    "            retries = exception_code(retries, 'gpt-35-turbo-instruct', e)"
   ]
  },
  {
   "cell_type": "code",
   "execution_count": 7,
   "id": "2ee3b50f-bb1b-4639-b9e1-2afce2bb3533",
   "metadata": {},
   "outputs": [],
   "source": [
    "text = \"\"\"\n",
    "You were a blaze and then the moment went You tried to solve filthy patches But now you're gonna win Oh man, oh he was here Oh oh oh oh oh \n",
    "man He got the two girls in your house Yup, you smell like smoke I know, I'm sorry, I'm trying to quit Oh man! Here, try these bolt high \n",
    "quality electronic cigarettes From smokeless image, they use a battery and E-liquid So there's no tobacco, no tar, no ash So there are no\n",
    "stinky smells Thank you, smokeless, I'm ex Now I'm so bad for man Be sure to tune in next time For a hot man, a healer's hero A hot man, he \n",
    "got the two girls in your house A hot man, a healer's hero\n",
    "\"\"\"\n"
   ]
  },
  {
   "cell_type": "code",
   "execution_count": 8,
   "id": "902a1d08-6760-473f-a904-2a92128c4e39",
   "metadata": {},
   "outputs": [],
   "source": [
    "classification_query = \"Pick the 5 most likely classifications for this document, and return as a csv format, with the classification first and the numerical probability second: \""
   ]
  },
  {
   "cell_type": "code",
   "execution_count": 9,
   "id": "e1d51aed-277a-48a1-90c0-eba654c55d32",
   "metadata": {},
   "outputs": [
    {
     "name": "stdout",
     "output_type": "stream",
     "text": [
      "\n",
      "No way, 0.9\n",
      "Teens, 0.7\n",
      "Anti-Smoking, 0.7\n",
      "Peer Pressure, 0.6\n",
      "Youth Culture, 0.5\n"
     ]
    }
   ],
   "source": [
    "text_completion(classification_query + \" \" + text)"
   ]
  },
  {
   "cell_type": "code",
   "execution_count": 10,
   "id": "09735439-32c9-4ebd-99a8-9ce4cc722125",
   "metadata": {},
   "outputs": [],
   "source": [
    "sentiment_query = \"Assess the sentiment as a floating point value from -1 to 1 and magnitude as a floating point from 0 to 1, format as (sentiment, magnitude) with no other text in response:\""
   ]
  },
  {
   "cell_type": "code",
   "execution_count": 11,
   "id": "39f2f46d-cdf7-41ed-aa24-88a49b13ab11",
   "metadata": {},
   "outputs": [
    {
     "name": "stdout",
     "output_type": "stream",
     "text": [
      "\n",
      "(0.8, 0.8)\n"
     ]
    }
   ],
   "source": [
    "text_completion(sentiment_query + \" \" + text)"
   ]
  },
  {
   "cell_type": "code",
   "execution_count": 12,
   "id": "3b93e457-c73e-4297-bc22-b8bf0eb8309e",
   "metadata": {},
   "outputs": [],
   "source": [
    "summarization_query = \"Summarize the document using complete sentences in less than 200 words, covering main points, to be used for quick scan by researchers: \""
   ]
  },
  {
   "cell_type": "code",
   "execution_count": 13,
   "id": "cc582e19-dfa8-4b79-a542-066e81b27ec8",
   "metadata": {},
   "outputs": [
    {
     "name": "stdout",
     "output_type": "stream",
     "text": [
      "\n",
      "A group of teenagers discuss the idea that smoking makes you cool. They reject this belief and explain their reasons for not smoking. They believe that being true to themselves is more important than trying to fit in by smoking. They share their personal experiences with peer pressure and how they have chosen to not give in to it. One teenager in the group admits to trying cigarettes when they were 14, but stopped because they didn't enjoy it and didn't feel the need to fit in. They all agree that smoking is not necessary to be different or cool.\n"
     ]
    }
   ],
   "source": [
    "text_completion(summarization_query + \" \" + text)"
   ]
  },
  {
   "cell_type": "code",
   "execution_count": 23,
   "id": "40f5afb7-ecaf-43fa-8b93-38899e6e1f3f",
   "metadata": {},
   "outputs": [],
   "source": [
    "from openai import AzureOpenAI\n",
    "deployment = 'gpt-4o-2024-05-13'\n",
    "\n",
    "client = AzureOpenAI(\n",
    "    api_key=API_KEY,\n",
    "    api_version=API_VERSION,\n",
    "    azure_endpoint=RESOURCE_ENDPOINT,\n",
    ")\n",
    "image_url = \"https://github.com/geoffswc/Libguide-AI-Tools-Archival-Research/raw/main/cartoon_frame_jpg.jpg\"\n",
    "messages = [\n",
    "    {\n",
    "      \"role\": \"user\",\n",
    "      \"content\": [\n",
    "        {\"type\": \"text\", \"text\": \"what objects do you detect in this image?\"},\n",
    "        {\n",
    "          \"type\": \"image_url\",\n",
    "          \"image_url\": {\n",
    "            \"url\": image_url,\n",
    "          },\n",
    "        },\n",
    "      ],\n",
    "    }\n",
    "  ]\n",
    "\n",
    "response = client.chat.completions.create(\n",
    "  model=deployment,\n",
    "  messages=messages,\n",
    "  max_tokens=300,\n",
    ")"
   ]
  },
  {
   "cell_type": "code",
   "execution_count": 24,
   "id": "2c9ba2ae-62a0-4f4a-a85f-3900b06947ba",
   "metadata": {},
   "outputs": [
    {
     "name": "stdout",
     "output_type": "stream",
     "text": [
      "In the image, I detect a superhero character, electronic cigarettes, city buildings, a logo and text for Smokeless Image Electronic Cigarettes, a speech bubble, and an arm holding an electronic cigarette. Additionally, there are comic book-style graphics, a character labeled \"Analog\" with a broken wall in the background, and a \"To be continued\" banner.\n"
     ]
    }
   ],
   "source": [
    "print(response.choices[0].message.content)"
   ]
  },
  {
   "cell_type": "code",
   "execution_count": null,
   "id": "c1bab0e1-0a13-42ba-a4f1-10004345cff7",
   "metadata": {},
   "outputs": [],
   "source": []
  }
 ],
 "metadata": {
  "kernelspec": {
   "display_name": "Python 3 (ipykernel)",
   "language": "python",
   "name": "python3"
  },
  "language_info": {
   "codemirror_mode": {
    "name": "ipython",
    "version": 3
   },
   "file_extension": ".py",
   "mimetype": "text/x-python",
   "name": "python",
   "nbconvert_exporter": "python",
   "pygments_lexer": "ipython3",
   "version": "3.9.7"
  }
 },
 "nbformat": 4,
 "nbformat_minor": 5
}
