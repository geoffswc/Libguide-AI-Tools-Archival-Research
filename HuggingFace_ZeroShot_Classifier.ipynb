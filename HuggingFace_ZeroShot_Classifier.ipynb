{
  "cells": [
    {
      "cell_type": "code",
      "execution_count": 29,
      "metadata": {
        "id": "hkB0l2DJWEaO"
      },
      "outputs": [],
      "source": [
        "#!pip install transformers"
      ]
    },
    {
      "cell_type": "code",
      "execution_count": 2,
      "metadata": {
        "id": "J7hq0pcKWHFI"
      },
      "outputs": [],
      "source": [
        "from transformers import pipeline"
      ]
    },
    {
      "cell_type": "code",
      "source": [
        "classifier = pipeline(\"zero-shot-classification\", model=\"facebook/bart-large-mnli\")"
      ],
      "metadata": {
        "id": "9zz21MaTLj0T"
      },
      "execution_count": 30,
      "outputs": []
    },
    {
      "cell_type": "code",
      "source": [
        "broad_cadidate_labels = [\"sports\", \"technology\", \"health\", \"politics\", \"business\", \"entertainment\", \"education\"]"
      ],
      "metadata": {
        "id": "r_fsUFzD_-iU"
      },
      "execution_count": 37,
      "outputs": []
    },
    {
      "cell_type": "code",
      "source": [
        "voltman_text = \"\"\"\n",
        "WARNING!\n",
        "All characters and events in this show are NOT intended for those under 18.\n",
        "All stunts and death-defying acts in the making of this cartoon were performed by VoltMan, whose true identity is currently unknown.\n",
        "While Smokeless Image Electronic Cigarettes can provide the pleasures of \"smoking\" without the restrictions associated with traditional cigarettes, Smokeless Image Electronic Cigarettes are not intended to help you quit smoking.\n",
        "Studies suggest that the use of e-cigarettes as an alternative to traditional smoking is linked to feelings of improved quality of life.\n",
        "Enjoy.\n",
        "\n",
        "\n",
        "You were a blaze and then the moment went You tried to solve filthy patches But now you're gonna win Oh man, oh he was here\n",
        "Oh oh oh oh oh man He got the two girls in your house Yup, you smell like smoke I know, I'm sorry, I'm trying to quit Oh man!\n",
        "Here, try these bolt high quality electronic cigarettes From smokeless image, they use a battery and E-liquid So there's no tobacco,\n",
        "no tar, no ash So there are no stinky smells Thank you, smokeless, I'm ex Now I'm so bad for man Be sure to tune in next time\n",
        "For a hot man, a healer's hero A hot man, he got the two girls in your house A hot man, a healer's hero\n",
        "\"\"\""
      ],
      "metadata": {
        "id": "oNeicHU5Lm49"
      },
      "execution_count": 38,
      "outputs": []
    },
    {
      "cell_type": "code",
      "source": [
        "cdc_text = \"\"\"\n",
        "(FRED) My name is Fred\n",
        "and I have had a serious life\n",
        "changing laryngectomy\n",
        "as a result of smoking\n",
        "cigarettes.\n",
        "My dad had a big music store.\n",
        "He died when I was nineteen.\n",
        "I had to pick up the pieces.\n",
        "Everybody had a cigarette.\n",
        "And so naturally, you know,\n",
        "wow, I want to be\n",
        "like the big guys.\n",
        "My voice just kept getting\n",
        "worse, worse, and worse.\n",
        "One day I go to the doctor\n",
        "and he says you know Fred,\n",
        "I don't like what I'm seeing.\n",
        "You're going to need\n",
        "a operation.\n",
        "Out of the hospital I got\n",
        "these bandages around my neck.\n",
        "I can't really show up\n",
        "at my store because there's\n",
        "periods of bleeding.\n",
        "My business started\n",
        "to fall apart.\n",
        "The price you pay for smoking\n",
        "is so incredibly expensive.\n",
        "\"\"\""
      ],
      "metadata": {
        "id": "gSRvncBq7o4q"
      },
      "execution_count": 39,
      "outputs": []
    },
    {
      "cell_type": "code",
      "execution_count": 44,
      "metadata": {
        "id": "flFyZohVhIlU"
      },
      "outputs": [],
      "source": [
        "morris_text = \"\"\"\n",
        "Think smoking makes you look cool. No way. What are you looking at? Hey, Krissie! What? Think smoking makes you look cool.\n",
        "No way. What? Keep on my things, I can't know. I'm jumping now. Always telling us what to do. Or not to do. But we know what's going on.\n",
        " We listen. Like smoking. We don't know the reason it's not to. But out here comes up. That's when we meet the real decision.\n",
        " That's for us. It's not for the smoke. And that's not even the hardest decision out there, my baby. I mean, you know. So how about\n",
        " a little kind of purchase? My parents. They always think I'm not listening. I hear them. Wait a minute. You know, every day you have\n",
        " to do something. You have to deal with stuff on your own. So you want to know why I decided not to smoke. Which reason would you like?\n",
        " I don't need to smoke to prove myself. My coolness is not on trial here. I don't smoke because sometimes it's what you don't do.\n",
        " That makes you who you are. These are the kids that I've seen. They're all cool in different ways. Or a lot of like too.\n",
        " Because you know, we all deal with the same stuff. Same decisions. Like smoking. Forget it. We all came up with the same answer. Not for us. We don't have to smoke to be different. Being ourselves is enough. Hey guys. Now you ask you a couple questions? I've never tried cigarettes. So what? I don't know. I just never wanted to know. Really? Yeah. Someone fresh harder to whatever somebody have a pack at the school. You know, they smoke you know what I mean. And do you think they try to get other people doing it? Yeah. Yeah. But that's dumb though. You see what I'm saying? I mean, the reason I just don't know. They're not dumb, but. That's the reason it's the only thing. I'm not stupid. You're not stupid. Take it easy. Hey you. Me? Yeah. Did you ever try cigarettes? I was 14. Any reason? Because I was trying to be closer to something. Really? Well yeah. So you tried it because other people were doing it? Yeah, I guess. And why don't you do it anymore? A lot of reasons.\n",
        "Just didn't like it, you know? I don't need a smoke to like fit in. Hold up. We finished? Yeah\n",
        "\"\"\""
      ]
    },
    {
      "cell_type": "code",
      "execution_count": 42,
      "metadata": {
        "id": "OzvxkgSqlY3C",
        "colab": {
          "base_uri": "https://localhost:8080/"
        },
        "outputId": "bd09b5b1-5141-4898-d4bf-b47451a21d36"
      },
      "outputs": [
        {
          "output_type": "execute_result",
          "data": {
            "text/plain": [
              "{'entertainment': 0.49125102162361145,\n",
              " 'health': 0.15909618139266968,\n",
              " 'technology': 0.13360635936260223,\n",
              " 'education': 0.06735202670097351,\n",
              " 'sports': 0.06441096216440201,\n",
              " 'business': 0.053315743803977966,\n",
              " 'politics': 0.03096773847937584}"
            ]
          },
          "metadata": {},
          "execution_count": 42
        }
      ],
      "source": [
        "get_classification_probabilities(voltman_text, broad_cadidate_labels)"
      ]
    },
    {
      "cell_type": "code",
      "source": [
        "get_classification_probabilities(morris_text, broad_cadidate_labels)"
      ],
      "metadata": {
        "id": "iS6lQfuoR04y",
        "colab": {
          "base_uri": "https://localhost:8080/"
        },
        "outputId": "c2c2ef56-8d9c-44e8-b177-bee6d094b383"
      },
      "execution_count": 45,
      "outputs": [
        {
          "output_type": "execute_result",
          "data": {
            "text/plain": [
              "{'entertainment': 0.27404510974884033,\n",
              " 'business': 0.15824195742607117,\n",
              " 'health': 0.15268878638744354,\n",
              " 'education': 0.12140381336212158,\n",
              " 'technology': 0.1102178692817688,\n",
              " 'sports': 0.09438446909189224,\n",
              " 'politics': 0.08901793509721756}"
            ]
          },
          "metadata": {},
          "execution_count": 45
        }
      ]
    },
    {
      "cell_type": "code",
      "source": [
        "get_classification_probabilities(cdc_text, broad_cadidate_labels)"
      ],
      "metadata": {
        "colab": {
          "base_uri": "https://localhost:8080/"
        },
        "id": "-8-hiLot-4r0",
        "outputId": "fb7eb944-0488-4fc9-8588-b9b5ee6ed150"
      },
      "execution_count": 46,
      "outputs": [
        {
          "output_type": "execute_result",
          "data": {
            "text/plain": [
              "{'business': 0.37764066457748413,\n",
              " 'health': 0.34103304147720337,\n",
              " 'technology': 0.10135255008935928,\n",
              " 'sports': 0.050892166793346405,\n",
              " 'education': 0.04973383992910385,\n",
              " 'entertainment': 0.04359810799360275,\n",
              " 'politics': 0.035749711096286774}"
            ]
          },
          "metadata": {},
          "execution_count": 46
        }
      ]
    },
    {
      "cell_type": "code",
      "source": [],
      "metadata": {
        "id": "Nla-q-wl-6b3"
      },
      "execution_count": null,
      "outputs": []
    }
  ],
  "metadata": {
    "colab": {
      "provenance": []
    },
    "kernelspec": {
      "display_name": "Python 3",
      "name": "python3"
    },
    "language_info": {
      "name": "python"
    }
  },
  "nbformat": 4,
  "nbformat_minor": 0
}