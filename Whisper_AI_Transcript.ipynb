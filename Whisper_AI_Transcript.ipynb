{
  "nbformat": 4,
  "nbformat_minor": 0,
  "metadata": {
    "colab": {
      "provenance": [],
      "gpuType": "T4"
    },
    "kernelspec": {
      "name": "python3",
      "display_name": "Python 3"
    },
    "language_info": {
      "name": "python"
    },
    "accelerator": "GPU"
  },
  "cells": [
    {
      "cell_type": "code",
      "source": [
        "# this code sample demonstrates how to use whisper to extract embedded a transcript from an mp4 file\n",
        "# the video contains an advertisement for \"Volt-Man\", a cartoon hero who promotes vaping (e-cigarettes)\n",
        "# as an alternative to smoking\n",
        "# Note - you may want to use GPUs for this, as it will speed up the model loading and transcript extraction\n",
        "\n",
        "# links:\n",
        "# Advertisement Cartoon (IDL): https://archive.org/download/tobacco_yqwg0225/tobacco_yqwg0225.mp4\n"
      ],
      "metadata": {
        "id": "D_yzvP_2I61r"
      },
      "execution_count": 2,
      "outputs": []
    },
    {
      "cell_type": "code",
      "execution_count": 3,
      "metadata": {
        "id": "nsW7JZdptiPY"
      },
      "outputs": [],
      "source": [
        "#!pip install git+https://github.com/openai/whisper.git\n",
        "#!pip install ffmpeg-python\n",
        "#!pip install tempfile"
      ]
    },
    {
      "cell_type": "code",
      "source": [
        "import tempfile\n",
        "import whisper\n",
        "import os\n",
        "import urllib"
      ],
      "metadata": {
        "id": "1ckBzxn2ttGu"
      },
      "execution_count": 4,
      "outputs": []
    },
    {
      "cell_type": "code",
      "source": [
        "# Create a temporary directory to store the downloaded MP4 file\n",
        "temp_dir = tempfile.TemporaryDirectory()\n",
        "\n",
        "url = \"https://archive.org/download/tobacco_yqwg0225/tobacco_yqwg0225.mp4\"\n",
        "\n",
        "source_file_name = url.split('/')[-1]\n",
        "print(\"downloading file\")\n",
        "urllib.request.urlretrieve(url, source_file_name)\n",
        "\n",
        "source_file = os.path.join(source_file_name)"
      ],
      "metadata": {
        "colab": {
          "base_uri": "https://localhost:8080/"
        },
        "id": "ftMcPCGDuBeP",
        "outputId": "c574e4c6-ab69-46b3-9d0e-b5e21babdcf9"
      },
      "execution_count": 5,
      "outputs": [
        {
          "output_type": "stream",
          "name": "stdout",
          "text": [
            "downloading file\n"
          ]
        }
      ]
    },
    {
      "cell_type": "code",
      "source": [
        "tiny_model = whisper.load_model(\"tiny\")\n",
        "base_model = whisper.load_model(\"base\")\n",
        "#small_model = whisper.load_model(\"small\")\n",
        "#medium_model = whisper.load_model(\"medium\")\n",
        "#large_model = whisper.load_model(\"large\")"
      ],
      "metadata": {
        "colab": {
          "base_uri": "https://localhost:8080/"
        },
        "id": "Icy6_HRBuN7J",
        "outputId": "6139eff4-7939-4d1c-a373-226410d2d1f9"
      },
      "execution_count": 6,
      "outputs": [
        {
          "output_type": "stream",
          "name": "stderr",
          "text": [
            "100%|█████████████████████████████████████| 72.1M/72.1M [00:03<00:00, 22.1MiB/s]\n",
            "100%|███████████████████████████████████████| 139M/139M [00:02<00:00, 53.7MiB/s]\n"
          ]
        }
      ]
    },
    {
      "cell_type": "code",
      "source": [
        "%%time\n",
        "tiny_result = tiny_model.transcribe(source_file)\n",
        "tiny_text = tiny_result['text']"
      ],
      "metadata": {
        "colab": {
          "base_uri": "https://localhost:8080/"
        },
        "id": "5HuEbFxgvK51",
        "outputId": "a5556c20-7e0a-4b7a-d6de-32c466cc5da4"
      },
      "execution_count": 7,
      "outputs": [
        {
          "output_type": "stream",
          "name": "stdout",
          "text": [
            "CPU times: user 5.8 s, sys: 399 ms, total: 6.2 s\n",
            "Wall time: 10.7 s\n"
          ]
        }
      ]
    },
    {
      "cell_type": "code",
      "source": [
        "tiny_text"
      ],
      "metadata": {
        "colab": {
          "base_uri": "https://localhost:8080/",
          "height": 104
        },
        "id": "cP4I0rsrva5v",
        "outputId": "85ebed50-fd86-43be-df43-42d5fe403ff6"
      },
      "execution_count": 9,
      "outputs": [
        {
          "output_type": "execute_result",
          "data": {
            "text/plain": [
              "\" You were a blazing at the phone when you tried to film built in patches, but now you're going away. Of you a hero, of men, just as you go to your house. Yep, you smell like smoke. I know, I'm sorry, I'm trying to quit. Oh man! Here, try these bolt-high-quality electronic cigarettes. From smokeless image, they use a battery and e-liquid. So there's no tobacco, no tar, no ash, so there are no stinky smells. Thank you, no complaints. There's no smell, man. Ha ha ha ha. Be sure to tune in next time. For... A hero's hero, of men, yet to go to your house.\""
            ],
            "application/vnd.google.colaboratory.intrinsic+json": {
              "type": "string"
            }
          },
          "metadata": {},
          "execution_count": 9
        }
      ]
    },
    {
      "cell_type": "markdown",
      "source": [],
      "metadata": {
        "id": "xm2EOyEavjcf"
      }
    }
  ]
}