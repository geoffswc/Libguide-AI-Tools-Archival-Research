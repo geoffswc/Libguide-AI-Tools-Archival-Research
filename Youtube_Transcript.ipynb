{
  "nbformat": 4,
  "nbformat_minor": 0,
  "metadata": {
    "colab": {
      "provenance": []
    },
    "kernelspec": {
      "name": "python3",
      "display_name": "Python 3"
    },
    "language_info": {
      "name": "python"
    }
  },
  "cells": [
    {
      "cell_type": "code",
      "source": [
        "# This workbook demonstates how to access a transcript for a video\n",
        "# hosted on youtube."
      ],
      "metadata": {
        "id": "EqQHCGtcIAvG"
      },
      "execution_count": null,
      "outputs": []
    },
    {
      "cell_type": "code",
      "source": [
        "!pip install youtube-transcript-api"
      ],
      "metadata": {
        "id": "Q6HXjO5F-a5h"
      },
      "execution_count": null,
      "outputs": []
    },
    {
      "cell_type": "code",
      "source": [
        "from youtube_transcript_api import YouTubeTranscriptApi\n",
        "from youtube_transcript_api.formatters import TextFormatter"
      ],
      "metadata": {
        "id": "XqAAEWbx-dph"
      },
      "execution_count": null,
      "outputs": []
    },
    {
      "cell_type": "code",
      "execution_count": null,
      "metadata": {
        "id": "F7BQFgHD9pW3"
      },
      "outputs": [],
      "source": [
        "def get_youtube_transcript(video_id):\n",
        "    try:\n",
        "        transcript = YouTubeTranscriptApi.get_transcript(video_id)\n",
        "        formatted_transcript = \"\\n\".join([entry['text'] for entry in transcript])\n",
        "\n",
        "        return formatted_transcript\n",
        "\n",
        "    except Exception as e:\n",
        "        return str(e)\n",
        "\n"
      ]
    },
    {
      "cell_type": "code",
      "source": [
        "video_id = 'CuPk1cLrq_s'\n",
        "transcript = get_youtube_transcript(video_id)"
      ],
      "metadata": {
        "id": "801BNKJH9r1P"
      },
      "execution_count": null,
      "outputs": []
    },
    {
      "cell_type": "code",
      "source": [
        "print(transcript)"
      ],
      "metadata": {
        "colab": {
          "base_uri": "https://localhost:8080/"
        },
        "id": "3MHfuggZ-Uvx",
        "outputId": "55ccffc7-c74c-46cd-e701-090def4aea5c"
      },
      "execution_count": null,
      "outputs": [
        {
          "output_type": "stream",
          "name": "stdout",
          "text": [
            "(FRED) My name is Fred\n",
            "and I have had a serious life\n",
            "changing laryngectomy\n",
            "as a result of smoking\n",
            "cigarettes.\n",
            "My dad had a big music store.\n",
            "He died when I was nineteen.\n",
            "I had to pick up the pieces.\n",
            "Everybody had a cigarette.\n",
            "And so naturally, you know,\n",
            "wow, I want to be\n",
            "like the big guys.\n",
            "My voice just kept getting\n",
            "worse, worse, and worse.\n",
            "One day I go to the doctor\n",
            "and he says you know Fred,\n",
            "I don't like what I'm seeing.\n",
            "You're going to need\n",
            "a operation.\n",
            "Out of the hospital I got\n",
            "these bandages around my neck.\n",
            "I can't really show up\n",
            "at my store because there's\n",
            "periods of bleeding.\n",
            "My business started\n",
            "to fall apart.\n",
            "The price you pay for smoking\n",
            "is so incredibly expensive.\n"
          ]
        }
      ]
    },
    {
      "cell_type": "code",
      "source": [],
      "metadata": {
        "id": "CM_d0qVJ-iIc"
      },
      "execution_count": null,
      "outputs": []
    }
  ]
}