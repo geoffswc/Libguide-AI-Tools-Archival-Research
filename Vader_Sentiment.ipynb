{
  "nbformat": 4,
  "nbformat_minor": 0,
  "metadata": {
    "colab": {
      "provenance": []
    },
    "kernelspec": {
      "name": "python3",
      "display_name": "Python 3"
    },
    "language_info": {
      "name": "python"
    }
  },
  "cells": [
    {
      "cell_type": "code",
      "execution_count": 2,
      "metadata": {
        "id": "HJ6DxrPQO6Ch"
      },
      "outputs": [],
      "source": [
        "#!pip install vaderSentiment"
      ]
    },
    {
      "cell_type": "code",
      "source": [
        "from vaderSentiment.vaderSentiment import SentimentIntensityAnalyzer"
      ],
      "metadata": {
        "id": "2k28CdcCO9R4"
      },
      "execution_count": 3,
      "outputs": []
    },
    {
      "cell_type": "code",
      "source": [
        "analyzer = SentimentIntensityAnalyzer()"
      ],
      "metadata": {
        "id": "OOTUGK06PHKA"
      },
      "execution_count": 4,
      "outputs": []
    },
    {
      "cell_type": "code",
      "source": [
        "voltman_text = \"\"\"\n",
        "You were a blaze and then the moment went You tried to solve filthy patches But now you're gonna win Oh man, oh he was here\n",
        "Oh oh oh oh oh man He got the two girls in your house Yup, you smell like smoke I know, I'm sorry, I'm trying to quit Oh man!\n",
        "Here, try these bolt high quality electronic cigarettes From smokeless image, they use a battery and E-liquid So there's no tobacco,\n",
        "no tar, no ash So there are no stinky smells Thank you, smokeless, I'm ex Now I'm so bad for man Be sure to tune in next time\n",
        "For a hot man, a healer's hero A hot man, he got the two girls in your house A hot man, a healer's hero\n",
        "\"\"\""
      ],
      "metadata": {
        "id": "83AX5siNPITu"
      },
      "execution_count": 7,
      "outputs": []
    },
    {
      "cell_type": "code",
      "source": [
        "cdc_text = \"\"\"\n",
        "(FRED) My name is Fred\n",
        "and I have had a serious life\n",
        "changing laryngectomy\n",
        "as a result of smoking\n",
        "cigarettes.\n",
        "My dad had a big music store.\n",
        "He died when I was nineteen.\n",
        "I had to pick up the pieces.\n",
        "Everybody had a cigarette.\n",
        "And so naturally, you know,\n",
        "wow, I want to be\n",
        "like the big guys.\n",
        "My voice just kept getting\n",
        "worse, worse, and worse.\n",
        "One day I go to the doctor\n",
        "and he says you know Fred,\n",
        "I don't like what I'm seeing.\n",
        "You're going to need\n",
        "a operation.\n",
        "Out of the hospital I got\n",
        "these bandages around my neck.\n",
        "I can't really show up\n",
        "at my store because there's\n",
        "periods of bleeding.\n",
        "My business started\n",
        "to fall apart.\n",
        "The price you pay for smoking\n",
        "is so incredibly expensive.\n",
        "\"\"\""
      ],
      "metadata": {
        "id": "Gy-78g9zPtWf"
      },
      "execution_count": 10,
      "outputs": []
    },
    {
      "cell_type": "code",
      "source": [
        "morris_text = \"\"\"\n",
        "Think smoking makes you look cool. No way. What are you looking at? Hey, Krissie! What? Think smoking makes you look cool.\n",
        "No way. What? Keep on my things, I can't know. I'm jumping now. Always telling us what to do. Or not to do. But we know what's going on.\n",
        " We listen. Like smoking. We don't know the reason it's not to. But out here comes up. That's when we meet the real decision.\n",
        " That's for us. It's not for the smoke. And that's not even the hardest decision out there, my baby. I mean, you know. So how about\n",
        " a little kind of purchase? My parents. They always think I'm not listening. I hear them. Wait a minute. You know, every day you have\n",
        " to do something. You have to deal with stuff on your own. So you want to know why I decided not to smoke. Which reason would you like?\n",
        " I don't need to smoke to prove myself. My coolness is not on trial here. I don't smoke because sometimes it's what you don't do.\n",
        " That makes you who you are. These are the kids that I've seen. They're all cool in different ways. Or a lot of like too.\n",
        " Because you know, we all deal with the same stuff. Same decisions. Like smoking. Forget it. We all came up with the same answer. Not for us. We don't have to smoke to be different. Being ourselves is enough. Hey guys. Now you ask you a couple questions? I've never tried cigarettes. So what? I don't know. I just never wanted to know. Really? Yeah. Someone fresh harder to whatever somebody have a pack at the school. You know, they smoke you know what I mean. And do you think they try to get other people doing it? Yeah. Yeah. But that's dumb though. You see what I'm saying? I mean, the reason I just don't know. They're not dumb, but. That's the reason it's the only thing. I'm not stupid. You're not stupid. Take it easy. Hey you. Me? Yeah. Did you ever try cigarettes? I was 14. Any reason? Because I was trying to be closer to something. Really? Well yeah. So you tried it because other people were doing it? Yeah, I guess. And why don't you do it anymore? A lot of reasons.\n",
        "Just didn't like it, you know? I don't need a smoke to like fit in. Hold up. We finished? Yeah\n",
        "\"\"\""
      ],
      "metadata": {
        "id": "8rqQQ5WRPuqY"
      },
      "execution_count": 11,
      "outputs": []
    },
    {
      "cell_type": "code",
      "source": [
        "analyzer.polarity_scores(voltman_text)"
      ],
      "metadata": {
        "colab": {
          "base_uri": "https://localhost:8080/"
        },
        "id": "CzoUfyDePSZL",
        "outputId": "0905c92f-1cde-45ad-bb67-91cec719f96f"
      },
      "execution_count": 12,
      "outputs": [
        {
          "output_type": "execute_result",
          "data": {
            "text/plain": [
              "{'neg': 0.068, 'neu': 0.714, 'pos': 0.218, 'compound': 0.9718}"
            ]
          },
          "metadata": {},
          "execution_count": 12
        }
      ]
    },
    {
      "cell_type": "code",
      "source": [
        "analyzer.polarity_scores(morris_text)"
      ],
      "metadata": {
        "colab": {
          "base_uri": "https://localhost:8080/"
        },
        "id": "CGVzhyO3PUqw",
        "outputId": "a01ea374-171b-42c7-bea6-a2f552f00d70"
      },
      "execution_count": 13,
      "outputs": [
        {
          "output_type": "execute_result",
          "data": {
            "text/plain": [
              "{'neg': 0.027, 'neu': 0.822, 'pos': 0.151, 'compound': 0.9953}"
            ]
          },
          "metadata": {},
          "execution_count": 13
        }
      ]
    },
    {
      "cell_type": "code",
      "source": [
        "analyzer.polarity_scores(cdc_text)"
      ],
      "metadata": {
        "colab": {
          "base_uri": "https://localhost:8080/"
        },
        "id": "RdmXKkoKP0zj",
        "outputId": "3fdc142a-87d0-411d-d9a9-37122560ca90"
      },
      "execution_count": 14,
      "outputs": [
        {
          "output_type": "execute_result",
          "data": {
            "text/plain": [
              "{'neg': 0.12, 'neu': 0.828, 'pos': 0.052, 'compound': -0.8446}"
            ]
          },
          "metadata": {},
          "execution_count": 14
        }
      ]
    }
  ]
}