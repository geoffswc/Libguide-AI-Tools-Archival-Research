{
  "nbformat": 4,
  "nbformat_minor": 0,
  "metadata": {
    "colab": {
      "provenance": [],
      "gpuType": "T4"
    },
    "kernelspec": {
      "name": "python3",
      "display_name": "Python 3"
    },
    "language_info": {
      "name": "python"
    },
    "accelerator": "GPU"
  },
  "cells": [
    {
      "cell_type": "code",
      "source": [
        "#!pip uninstall protobuf\n",
        "#!pip install protobuf==3.20.3"
      ],
      "metadata": {
        "id": "KsuiHs-mdmM4"
      },
      "execution_count": null,
      "outputs": []
    },
    {
      "cell_type": "code",
      "source": [
        "#pip install tensorflow"
      ],
      "metadata": {
        "id": "3N3kII3bURpa"
      },
      "execution_count": null,
      "outputs": []
    },
    {
      "source": [
        "#!pip uninstall tensorflow\n",
        "#!pip install tensorflow==2.17.1\n",
        "#!pip install tf-models-official==2.17.0\n",
        "#!pip uninstall protobuf\n",
        "#!pip install protobuf==3.20.3"
      ],
      "cell_type": "code",
      "metadata": {
        "id": "slGKDHIIla3O"
      },
      "execution_count": null,
      "outputs": []
    },
    {
      "cell_type": "code",
      "source": [
        "# Import necessary libraries\n",
        "import tensorflow as tf\n",
        "import numpy as np\n",
        "import urllib\n",
        "import cv2\n",
        "from matplotlib import pyplot as plt\n",
        "from object_detection.utils import label_map_util, visualization_utils as vis_util\n",
        "import os\n",
        "import urllib.request\n",
        "from google.protobuf import text_format\n",
        "from object_detection.protos import string_int_label_map_pb2\n",
        "import requests  # Import requests library\n",
        "\n",
        "# Download the pre-trained model (Faster R-CNN Inception v2)\n",
        "MODEL_NAME = 'faster_rcnn_inception_v2_coco_2017_11_08'\n",
        "MODEL_FILE = tf.keras.utils.get_file(MODEL_NAME + '.tar.gz',\n",
        "                                     'http://download.tensorflow.org/models/object_detection/{}.tar.gz'.format(MODEL_NAME),\n",
        "                                     untar=True)\n",
        "\n",
        "# Load the model into TensorFlow\n",
        "PATH_TO_CKPT = MODEL_FILE + '/saved_model'\n",
        "for root, dirs, files in os.walk(MODEL_FILE):\n",
        "    if 'saved_model' in dirs:\n",
        "        PATH_TO_CKPT = os.path.join(root, 'saved_model')\n",
        "        break  # Stop searching once found\n",
        "\n",
        "detection_model = tf.saved_model.load(PATH_TO_CKPT)\n",
        "\n",
        "# Load the COCO labels\n",
        "PATH_TO_LABELS = 'https://raw.githubusercontent.com/tensorflow/models/master/research/object_detection/data/mscoco_label_map.pbtxt'\n",
        "\n",
        "# Download the label map file using requests\n",
        "response = requests.get(PATH_TO_LABELS)\n",
        "response.raise_for_status()  # Raise an exception for bad status codes (like 403)\n",
        "label_map_string = response.text  # Get the content as text\n",
        "\n",
        "# Parse the label map string\n",
        "label_map = string_int_label_map_pb2.StringIntLabelMap()\n",
        "text_format.Merge(label_map_string, label_map)\n",
        "\n",
        "categories = label_map_util.convert_label_map_to_categories(\n",
        "    label_map, max_num_classes=90, use_display_name=True)\n",
        "category_index = {item['id']: item for item in categories}\n",
        "\n",
        "# Replace this URL with your image URL\n",
        "image_url = \"https://raw.githubusercontent.com/geoffswc/UCSF-Research-AI-Symposium-2025/main/cartoon.png\"\n",
        "# Download and read the image\n",
        "image_path = urllib.request.urlretrieve(image_url, 'image.png')[0]\n",
        "image_np = cv2.imread(image_path)\n",
        "image_np = cv2.cvtColor(image_np, cv2.COLOR_BGR2RGB)\n",
        "\n",
        "# Convert image to tensor and run the detection\n",
        "input_tensor = tf.convert_to_tensor(image_np)\n",
        "input_tensor = input_tensor[tf.newaxis, ...]\n",
        "\n",
        "# Perform detection\n",
        "output_dict = detection_model.signatures['serving_default'](input_tensor)\n",
        "\n",
        "# Extract useful information (boxes, classes, and scores)\n",
        "boxes = output_dict['detection_boxes'][0].numpy()\n",
        "classes = output_dict['detection_classes'][0].numpy().astype(np.int64)\n",
        "scores = output_dict['detection_scores'][0].numpy()\n",
        "\n",
        "# Filter and display the results visually\n",
        "for i in range(len(classes)):\n",
        "    if scores[i] > 0.25:\n",
        "        # Get the label and bounding box coordinates\n",
        "        label = category_index[classes[i]]['name']\n",
        "\n",
        "        print(f\"Label: {label}, Confidence: {scores[i]:.2f}\")\n",
        "        box = boxes[i]\n",
        "\n",
        "        # Draw bounding box\n",
        "        ymin, xmin, ymax, xmax = box\n",
        "        (left, right, top, bottom) = (xmin * image_np.shape[1], xmax * image_np.shape[1],\n",
        "                                      ymin * image_np.shape[0], ymax * image_np.shape[0])\n",
        "\n",
        "        # Draw the box and label on the image\n",
        "        image_np = cv2.rectangle(image_np, (int(left), int(top)), (int(right), int(bottom)), (255, 0, 0), 2)\n",
        "        image_np = cv2.putText(image_np, f\"{label}: {scores[i]:.2f}\", (int(left), int(top)-10),\n",
        "                               cv2.FONT_HERSHEY_SIMPLEX, 1, (0, 255, 0), 2, cv2.LINE_AA)\n",
        "\n",
        "# Save the image with bounding boxes and labels\n",
        "output_image_path = '/content/output_image.png'\n",
        "cv2.imwrite(output_image_path, cv2.cvtColor(image_np, cv2.COLOR_RGB2BGR))\n",
        "\n",
        "# Provide a link to download the image\n",
        "from google.colab import files\n",
        "files.download(output_image_path)\n",
        "\n",
        "print(f\"Image with bounding boxes saved to {output_image_path} and ready for download.\")\n"
      ],
      "metadata": {
        "colab": {
          "base_uri": "https://localhost:8080/",
          "height": 139
        },
        "id": "iZApdTup1O1S",
        "outputId": "4037d507-9e6b-40ca-cc57-90d29784505b"
      },
      "execution_count": null,
      "outputs": [
        {
          "output_type": "stream",
          "name": "stdout",
          "text": [
            "Label: person, Confidence: 0.94\n",
            "Label: person, Confidence: 0.87\n",
            "Label: tv, Confidence: 0.47\n",
            "Label: bottle, Confidence: 0.39\n",
            "Label: tv, Confidence: 0.33\n",
            "Label: clock, Confidence: 0.30\n"
          ]
        },
        {
          "output_type": "display_data",
          "data": {
            "text/plain": [
              "<IPython.core.display.Javascript object>"
            ],
            "application/javascript": [
              "\n",
              "    async function download(id, filename, size) {\n",
              "      if (!google.colab.kernel.accessAllowed) {\n",
              "        return;\n",
              "      }\n",
              "      const div = document.createElement('div');\n",
              "      const label = document.createElement('label');\n",
              "      label.textContent = `Downloading \"${filename}\": `;\n",
              "      div.appendChild(label);\n",
              "      const progress = document.createElement('progress');\n",
              "      progress.max = size;\n",
              "      div.appendChild(progress);\n",
              "      document.body.appendChild(div);\n",
              "\n",
              "      const buffers = [];\n",
              "      let downloaded = 0;\n",
              "\n",
              "      const channel = await google.colab.kernel.comms.open(id);\n",
              "      // Send a message to notify the kernel that we're ready.\n",
              "      channel.send({})\n",
              "\n",
              "      for await (const message of channel.messages) {\n",
              "        // Send a message to notify the kernel that we're ready.\n",
              "        channel.send({})\n",
              "        if (message.buffers) {\n",
              "          for (const buffer of message.buffers) {\n",
              "            buffers.push(buffer);\n",
              "            downloaded += buffer.byteLength;\n",
              "            progress.value = downloaded;\n",
              "          }\n",
              "        }\n",
              "      }\n",
              "      const blob = new Blob(buffers, {type: 'application/binary'});\n",
              "      const a = document.createElement('a');\n",
              "      a.href = window.URL.createObjectURL(blob);\n",
              "      a.download = filename;\n",
              "      div.appendChild(a);\n",
              "      a.click();\n",
              "      div.remove();\n",
              "    }\n",
              "  "
            ]
          },
          "metadata": {}
        },
        {
          "output_type": "display_data",
          "data": {
            "text/plain": [
              "<IPython.core.display.Javascript object>"
            ],
            "application/javascript": [
              "download(\"download_74832879-a92a-41c1-afe5-ce1d9ea79142\", \"output_image.png\", 5746290)"
            ]
          },
          "metadata": {}
        },
        {
          "output_type": "stream",
          "name": "stdout",
          "text": [
            "Image with bounding boxes saved to /content/output_image.png and ready for download.\n"
          ]
        }
      ]
    },
    {
      "cell_type": "code",
      "source": [
        "files.download(output_image_path)"
      ],
      "metadata": {
        "id": "Pl51jKYX4cf3"
      },
      "execution_count": null,
      "outputs": []
    }
  ]
}